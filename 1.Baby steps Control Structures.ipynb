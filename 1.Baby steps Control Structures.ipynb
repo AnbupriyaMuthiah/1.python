{
 "cells": [
  {
   "cell_type": "code",
   "execution_count": 1,
   "id": "6217802c-dcca-4917-bea9-8ac5264d6bcb",
   "metadata": {},
   "outputs": [
    {
     "name": "stdout",
     "output_type": "stream",
     "text": [
      "Welcome to Assignment-1\n"
     ]
    }
   ],
   "source": [
    "# Assignment\n",
    "# 1.\n",
    "print(\"Welcome to Assignment-1\")"
   ]
  },
  {
   "cell_type": "code",
   "execution_count": 2,
   "id": "d9f51e9f-0a37-4fdd-af40-4d171194277e",
   "metadata": {},
   "outputs": [
    {
     "name": "stdout",
     "output_type": "stream",
     "text": [
      "Num1= 10\n",
      "Num2= 30\n",
      "Add= 40\n"
     ]
    }
   ],
   "source": [
    "#2.\n",
    "Num1=10\n",
    "Num2=30\n",
    "print(\"Num1=\",Num1)\n",
    "print(\"Num2=\",Num2)\n",
    "print(\"Add=\",Num1+Num2)\n"
   ]
  },
  {
   "cell_type": "code",
   "execution_count": 3,
   "id": "55321bf5-5e05-418b-9710-6bb432d63434",
   "metadata": {},
   "outputs": [
    {
     "name": "stdin",
     "output_type": "stream",
     "text": [
      "Enter your Weight in Kg:  72\n",
      "Enter your Height in cm:  150\n"
     ]
    },
    {
     "name": "stdout",
     "output_type": "stream",
     "text": [
      "Your BMI is: 32\n",
      "Obeise\n"
     ]
    }
   ],
   "source": [
    "#3. Body Mass Index\n",
    "weight=float(input(\"Enter your Weight in Kg: \"))\n",
    "height=float(input(\"Enter your Height in cm: \"))   \n",
    "BMI=round(weight/(height/100)**2)\n",
    "print(\"Your BMI is:\",BMI)\n",
    "if(BMI<18.5):\n",
    "    print(\"Underweight\")\n",
    "elif(BMI<25):\n",
    "    print(\"Normal\")\n",
    "elif(BMI<30):\n",
    "    print(\"Overweight\")\n",
    "else:\n",
    "    print(\"Obese\")\n"
   ]
  },
  {
   "cell_type": "code",
   "execution_count": null,
   "id": "a5d50cb3-da53-437c-aeae-cecbe1dae150",
   "metadata": {},
   "outputs": [],
   "source": []
  }
 ],
 "metadata": {
  "kernelspec": {
   "display_name": "Python 3 (ipykernel)",
   "language": "python",
   "name": "python3"
  },
  "language_info": {
   "codemirror_mode": {
    "name": "ipython",
    "version": 3
   },
   "file_extension": ".py",
   "mimetype": "text/x-python",
   "name": "python",
   "nbconvert_exporter": "python",
   "pygments_lexer": "ipython3",
   "version": "3.11.7"
  }
 },
 "nbformat": 4,
 "nbformat_minor": 5
}
