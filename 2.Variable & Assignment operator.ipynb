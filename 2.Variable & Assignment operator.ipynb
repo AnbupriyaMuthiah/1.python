{
 "cells": [
  {
   "cell_type": "code",
   "execution_count": 1,
   "id": "53b5ea30-7867-44cb-bca9-28cdd922ba1d",
   "metadata": {},
   "outputs": [
    {
     "name": "stdout",
     "output_type": "stream",
     "text": [
      "110\n"
     ]
    }
   ],
   "source": [
    "# variable and assignment operator\n",
    "Num1=50\n",
    "Num2=60\n",
    "Add=Num1+Num2\n",
    "print(Add)"
   ]
  },
  {
   "cell_type": "code",
   "execution_count": 2,
   "id": "a0176fb0-28e6-4505-8066-5de36c3696cf",
   "metadata": {},
   "outputs": [
    {
     "name": "stdin",
     "output_type": "stream",
     "text": [
      "Enter the Number1:  25\n",
      "Enter the Number2:  50\n"
     ]
    },
    {
     "name": "stdout",
     "output_type": "stream",
     "text": [
      "75\n"
     ]
    }
   ],
   "source": [
    "# Input Statement\n",
    "Num1=int(input(\"Enter the Number1: \"))\n",
    "Num2=int(input(\"Enter the Number2: \"))\n",
    "Add=Num1+Num2\n",
    "print(Add)"
   ]
  },
  {
   "cell_type": "code",
   "execution_count": null,
   "id": "94de74b5-cafc-4c09-89bb-95c5f38131bc",
   "metadata": {},
   "outputs": [],
   "source": []
  }
 ],
 "metadata": {
  "kernelspec": {
   "display_name": "Python 3 (ipykernel)",
   "language": "python",
   "name": "python3"
  },
  "language_info": {
   "codemirror_mode": {
    "name": "ipython",
    "version": 3
   },
   "file_extension": ".py",
   "mimetype": "text/x-python",
   "name": "python",
   "nbconvert_exporter": "python",
   "pygments_lexer": "ipython3",
   "version": "3.11.7"
  }
 },
 "nbformat": 4,
 "nbformat_minor": 5
}
