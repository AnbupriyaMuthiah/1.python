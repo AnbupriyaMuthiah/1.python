{
 "cells": [
  {
   "cell_type": "code",
   "execution_count": null,
   "id": "c119602f-1a33-4e28-ac2f-9e4ab41c1646",
   "metadata": {},
   "outputs": [],
   "source": [
    "# Control structure\n",
    "# If else\n",
    "Age=int(input(\"Enter the age: \"))\n",
    "if (Age==18):\n",
    "        print(\"Children\")\n",
    "else:\n",
    "        print(\"Adult\")\n",
    "\n",
    "                       \n",
    "        \n",
    "        "
   ]
  },
  {
   "cell_type": "code",
   "execution_count": null,
   "id": "f528cc92-53ca-45fa-850d-d64889db6399",
   "metadata": {},
   "outputs": [],
   "source": [
    "# Else if\n",
    "Age=int(input(\"Enter the age: \"))\n",
    "if(Age<18):\n",
    "        print(\"Children\")\n",
    "elif(Age<35):\n",
    "        print(\"Adult\")\n",
    "elif(Age<59):\n",
    "        print(\"Citizen\")\n",
    "else:\n",
    "        print(\"Senior Citizen\")\n",
    "        "
   ]
  },
  {
   "cell_type": "code",
   "execution_count": null,
   "id": "38687918-a43c-40fd-afc0-bf032336cf1b",
   "metadata": {},
   "outputs": [],
   "source": [
    "# For Loop\n",
    "lists=[5,10,15,20,25]\n",
    "for temp in lists:\n",
    "    print(temp)"
   ]
  },
  {
   "cell_type": "code",
   "execution_count": null,
   "id": "11681ed8-5c7b-4cbd-8f4d-c10224c2363c",
   "metadata": {},
   "outputs": [],
   "source": [
    "# Check the Number Odd or Even\n",
    "num=int(input(\"Enter the Number:\"))\n",
    "if(num%2==1):\n",
    "        print(num ,\"is Odd\")\n",
    "else:\n",
    "        print(\"This is Even\")"
   ]
  },
  {
   "cell_type": "code",
   "execution_count": null,
   "id": "d3089809-ac79-45f1-a433-cdca5e6481e2",
   "metadata": {},
   "outputs": [],
   "source": [
    "# Range\n",
    "for num in range(0,10):\n",
    "        print(num)"
   ]
  },
  {
   "cell_type": "code",
   "execution_count": null,
   "id": "9844f0b2-8421-4590-b4aa-c11188e927a3",
   "metadata": {},
   "outputs": [],
   "source": [
    "for num in range(0,100,5):\n",
    "    print(num)"
   ]
  },
  {
   "cell_type": "code",
   "execution_count": null,
   "id": "49d9b45a-2875-4839-b9c4-0d6cded887a1",
   "metadata": {},
   "outputs": [],
   "source": []
  }
 ],
 "metadata": {
  "kernelspec": {
   "display_name": "Python 3 (ipykernel)",
   "language": "python",
   "name": "python3"
  },
  "language_info": {
   "codemirror_mode": {
    "name": "ipython",
    "version": 3
   },
   "file_extension": ".py",
   "mimetype": "text/x-python",
   "name": "python",
   "nbconvert_exporter": "python",
   "pygments_lexer": "ipython3",
   "version": "3.11.7"
  }
 },
 "nbformat": 4,
 "nbformat_minor": 5
}
