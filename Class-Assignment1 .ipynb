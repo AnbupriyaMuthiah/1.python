{
 "cells": [
  {
   "cell_type": "code",
   "execution_count": 1,
   "id": "eb939ef2-08c6-40f0-884c-226fe2dfa43d",
   "metadata": {},
   "outputs": [
    {
     "name": "stdout",
     "output_type": "stream",
     "text": [
      "Subfields in AI are:\n",
      "Machine Learning\n",
      "Neural Network\n",
      "Vision\n",
      "Robotics\n",
      "Speech Processing\n",
      "Natural Language Processing\n"
     ]
    }
   ],
   "source": [
    "# Create Class and Function\n",
    "class SubfieldsInAI():\n",
    "    def Subfields(): \n",
    "        list=[\"Machine Learning\",\"Neural Network\",\"Vision\",\"Robotics\",\"Speech Processing\",\"Natural Language Processing\"]\n",
    "        print(\"Subfields in AI are:\")\n",
    "        for list1 in list:\n",
    "            print(list1)\n",
    "SubfieldsInAI.Subfields()\n"
   ]
  },
  {
   "cell_type": "code",
   "execution_count": 2,
   "id": "3e71147b-a4d8-48da-b022-8705a3ca524a",
   "metadata": {},
   "outputs": [
    {
     "name": "stdin",
     "output_type": "stream",
     "text": [
      "Enter the Number: 52452\n"
     ]
    },
    {
     "name": "stdout",
     "output_type": "stream",
     "text": [
      "52452 is Even Number\n"
     ]
    }
   ],
   "source": [
    "class OddEven():\n",
    "    def OddEven():    \n",
    "        Num=int(input(\"Enter the Number:\"))\n",
    "        if(Num%2==0):\n",
    "            print(Num,\"is Even Number\")\n",
    "        else:\n",
    "            print(Num,\"is Odd Number\")\n",
    "OddEven.OddEven()    "
   ]
  },
  {
   "cell_type": "code",
   "execution_count": 3,
   "id": "53ef81c1-78a2-43de-975a-b07ca2f8c570",
   "metadata": {},
   "outputs": [
    {
     "name": "stdin",
     "output_type": "stream",
     "text": [
      "Enter your Gender: male\n",
      "Enter your Age: 20\n"
     ]
    },
    {
     "name": "stdout",
     "output_type": "stream",
     "text": [
      "Not Eligible\n"
     ]
    }
   ],
   "source": [
    "class EligibilityforMarriage():\n",
    "    def Eligibility():\n",
    "        gender=input(\"Enter your Gender:\")\n",
    "        age=int(input(\"Enter your Age:\"))\n",
    "        if (gender==\"male\" and age>21):\n",
    "            print(\"Eligible\")\n",
    "        elif(gender==\"female\" and age>18):\n",
    "            print(\"Eligible\")\n",
    "        else:\n",
    "            print(\"Not Eligible\")\n",
    "\n",
    "EligibilityforMarriage.Eligibility()       "
   ]
  },
  {
   "cell_type": "code",
   "execution_count": 4,
   "id": "d97386c2-7a04-4b58-b061-2dce3927fe33",
   "metadata": {},
   "outputs": [
    {
     "name": "stdin",
     "output_type": "stream",
     "text": [
      "Subject1: 98\n",
      "Subject2: 87\n",
      "Subject3: 95\n",
      "Subject4: 95\n",
      "Subject5: 93\n"
     ]
    },
    {
     "name": "stdout",
     "output_type": "stream",
     "text": [
      "Total: 468\n",
      "Percentage: 93.6\n"
     ]
    }
   ],
   "source": [
    "class FindPercent():\n",
    "    def Percentage():\n",
    "        sub1=int(input(\"Subject1:\"))\n",
    "        sub2=int(input(\"Subject2:\"))\n",
    "        sub3=int(input(\"Subject3:\"))\n",
    "        sub4=int(input(\"Subject4:\"))\n",
    "        sub5=int(input(\"Subject5:\"))\n",
    "        Total=sub1+sub2+sub3+sub4+sub5\n",
    "        print(\"Total:\",Total)\n",
    "        percentage=Total/500*100\n",
    "        per=print(\"Percentage:\",round(percentage,2))\n",
    "        return per\n",
    "  \n",
    "FindPercent.Percentage()\n",
    "        \n"
   ]
  },
  {
   "cell_type": "code",
   "execution_count": 5,
   "id": "ede85698-4ebc-48b3-9769-40887c6b5b17",
   "metadata": {},
   "outputs": [
    {
     "name": "stdin",
     "output_type": "stream",
     "text": [
      "Height: 32\n",
      "Breath: 34\n"
     ]
    },
    {
     "name": "stdout",
     "output_type": "stream",
     "text": [
      "Area of Triangle: 544.0\n"
     ]
    },
    {
     "name": "stdin",
     "output_type": "stream",
     "text": [
      "Height1: 4\n",
      "Height2: 4\n",
      "Breath: 2\n"
     ]
    },
    {
     "name": "stdout",
     "output_type": "stream",
     "text": [
      "Perimeter of Triangle: 10.0\n"
     ]
    }
   ],
   "source": [
    "class triangle():\n",
    "    def Triangle():\n",
    "        Height=float(input(\"Height:\"))\n",
    "        Breadth=float(input(\"Breath:\"))\n",
    "        Area=Height*Breadth/2\n",
    "        print(\"Area of Triangle:\",Area)\n",
    "        Height1=float(input(\"Height1:\"))   \n",
    "        Height2=float(input(\"Height2:\"))\n",
    "        Breadth=float(input(\"Breath:\"))\n",
    "        perimeter=Height1+Height2+Breadth\n",
    "        print(\"Perimeter of Triangle:\",perimeter)\n",
    "triangle.Triangle()    \n",
    "        "
   ]
  },
  {
   "cell_type": "code",
   "execution_count": null,
   "id": "ff2b2cdd-cbde-4fca-af57-ad297cd4a9a4",
   "metadata": {},
   "outputs": [],
   "source": []
  }
 ],
 "metadata": {
  "kernelspec": {
   "display_name": "Python 3 (ipykernel)",
   "language": "python",
   "name": "python3"
  },
  "language_info": {
   "codemirror_mode": {
    "name": "ipython",
    "version": 3
   },
   "file_extension": ".py",
   "mimetype": "text/x-python",
   "name": "python",
   "nbconvert_exporter": "python",
   "pygments_lexer": "ipython3",
   "version": "3.11.7"
  }
 },
 "nbformat": 4,
 "nbformat_minor": 5
}
