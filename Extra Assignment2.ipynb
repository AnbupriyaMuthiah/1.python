{
 "cells": [
  {
   "cell_type": "code",
   "execution_count": 1,
   "id": "696225ab-3867-41cc-bd91-443e75999223",
   "metadata": {},
   "outputs": [
    {
     "name": "stdout",
     "output_type": "stream",
     "text": [
      "0\n",
      "1\n",
      "2\n",
      "3\n",
      "4\n",
      "5\n",
      "6\n",
      "7\n",
      "8\n",
      "9\n",
      "10\n",
      "11\n",
      "12\n",
      "13\n",
      "14\n",
      "15\n",
      "16\n",
      "17\n",
      "18\n",
      "19\n"
     ]
    }
   ],
   "source": [
    "# 1. Print 0 to 20 by using Range\n",
    "for num in range(0,20):\n",
    "    print(num)"
   ]
  },
  {
   "cell_type": "code",
   "execution_count": 2,
   "id": "760548ef-e630-4eca-8592-e83825f893a9",
   "metadata": {},
   "outputs": [
    {
     "name": "stdout",
     "output_type": "stream",
     "text": [
      "10\n",
      "11\n",
      "12\n",
      "13\n",
      "14\n",
      "15\n",
      "16\n",
      "17\n",
      "18\n",
      "19\n"
     ]
    }
   ],
   "source": [
    "#2.Print Range 10 to 20\n",
    "for num in range(10,20):\n",
    "    print(num)"
   ]
  },
  {
   "cell_type": "code",
   "execution_count": 4,
   "id": "31560ba9-0081-4ea8-a2d9-cce641e86fd8",
   "metadata": {},
   "outputs": [
    {
     "name": "stdout",
     "output_type": "stream",
     "text": [
      "Number of Item in the list: 7\n"
     ]
    }
   ],
   "source": [
    "#3. Print number of items in the list by using \"len\"\n",
    "list=[10,20,55,14,43,87,76]\n",
    "print(\"Number of Item in the list:\",len(list))"
   ]
  },
  {
   "cell_type": "code",
   "execution_count": 3,
   "id": "db3c2c33-1e67-49dd-82bb-fc47d7c98076",
   "metadata": {},
   "outputs": [
    {
     "name": "stdout",
     "output_type": "stream",
     "text": [
      "Artificial Intelligence\n",
      "A\n",
      "r\n",
      "t\n",
      "i\n",
      "f\n",
      "i\n",
      "c\n",
      "i\n",
      "a\n",
      "l\n",
      " \n",
      "I\n",
      "n\n",
      "t\n",
      "e\n",
      "l\n",
      "l\n",
      "i\n",
      "g\n",
      "e\n",
      "n\n",
      "c\n",
      "e\n"
     ]
    }
   ],
   "source": [
    "#4. Print Artificial Intelligence\n",
    "str=\"Artificial Intelligence\"\n",
    "print(str)\n",
    "for temp in range(0,len(str)):\n",
    "    print(str[temp])\n"
   ]
  },
  {
   "cell_type": "code",
   "execution_count": 4,
   "id": "9faa15f0-0279-4b37-a59d-4eb386360d61",
   "metadata": {},
   "outputs": [
    {
     "name": "stdin",
     "output_type": "stream",
     "text": [
      "Your Name: Priya\n",
      "Your age: 44\n",
      "Your profession: IT\n"
     ]
    }
   ],
   "source": [
    "#5. Input statement\n",
    "name=input(\"Your Name:\")\n",
    "age=int(input(\"Your age:\"))\n",
    "profession=input(\"Your profession:\")        "
   ]
  },
  {
   "cell_type": "code",
   "execution_count": 5,
   "id": "c2b2c199-418b-4f78-9b02-c9617bc694a9",
   "metadata": {},
   "outputs": [
    {
     "name": "stdout",
     "output_type": "stream",
     "text": [
      "(1, 'Welcome', 2, 'Hope')\n"
     ]
    }
   ],
   "source": [
    "#6. Print mixed data type in tuples\n",
    "tuple1=(1,\"Welcome\",2, \"Hope\")\n",
    "print(tuple1)"
   ]
  },
  {
   "cell_type": "code",
   "execution_count": 6,
   "id": "cfcebb4c-98ab-401f-9b46-f9128d555f27",
   "metadata": {},
   "outputs": [
    {
     "name": "stdout",
     "output_type": "stream",
     "text": [
      "((0, 1, 2, 3), ('Python', 'Hope'))\n"
     ]
    }
   ],
   "source": [
    "tuple1=((0,1,2,3),('Python' , 'Hope'))\n",
    "print(tuple1)"
   ]
  },
  {
   "cell_type": "code",
   "execution_count": 8,
   "id": "57fb5d2a-b2e5-4655-ad71-d96c8ab31bb1",
   "metadata": {},
   "outputs": [
    {
     "name": "stdout",
     "output_type": "stream",
     "text": [
      "19 is odd\n",
      "25 is odd\n",
      "1 is odd\n"
     ]
    }
   ],
   "source": [
    "#7. Print Odd Number in the lists\n",
    "list=(20,10,16,19,25,1,276,188)\n",
    "for num in list:\n",
    "    if(num%2==1):\n",
    "        print(num,\"is odd\")\n",
    "    \n",
    "    "
   ]
  },
  {
   "cell_type": "code",
   "execution_count": 9,
   "id": "79851508-000c-46eb-bede-9c7f06400b4f",
   "metadata": {},
   "outputs": [
    {
     "name": "stdout",
     "output_type": "stream",
     "text": [
      "20 is Even\n",
      "10 is Even\n",
      "16 is Even\n",
      "276 is Even\n",
      "188 is Even\n"
     ]
    }
   ],
   "source": [
    "#8. Print Even Number in the lists\n",
    "list=(20,10,16,19,25,1,276,188)\n",
    "for num in list:\n",
    "    if(num%2==0):\n",
    "        print(num,\"is Even\")\n"
   ]
  },
  {
   "cell_type": "code",
   "execution_count": null,
   "id": "1627b1f7-2d91-4a7b-bfec-ae48854dd861",
   "metadata": {},
   "outputs": [],
   "source": []
  }
 ],
 "metadata": {
  "kernelspec": {
   "display_name": "Python 3 (ipykernel)",
   "language": "python",
   "name": "python3"
  },
  "language_info": {
   "codemirror_mode": {
    "name": "ipython",
    "version": 3
   },
   "file_extension": ".py",
   "mimetype": "text/x-python",
   "name": "python",
   "nbconvert_exporter": "python",
   "pygments_lexer": "ipython3",
   "version": "3.11.7"
  }
 },
 "nbformat": 4,
 "nbformat_minor": 5
}
