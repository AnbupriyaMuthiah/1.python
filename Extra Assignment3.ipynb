{
 "cells": [
  {
   "cell_type": "code",
   "execution_count": 1,
   "id": "480de252-ce72-4873-9cb1-0aff4da98a77",
   "metadata": {},
   "outputs": [
    {
     "name": "stdin",
     "output_type": "stream",
     "text": [
      "Value= 10\n"
     ]
    },
    {
     "name": "stdout",
     "output_type": "stream",
     "text": [
      "Correct\n"
     ]
    }
   ],
   "source": [
    "# 1. Print correct if i==10\n",
    "i=int(input(\"Value=\"))\n",
    "if(i==10):\n",
    "    print(\"Correct\")"
   ]
  },
  {
   "cell_type": "code",
   "execution_count": 5,
   "id": "bb48184d-5560-47a4-91e1-b66830a99d7f",
   "metadata": {},
   "outputs": [
    {
     "name": "stdin",
     "output_type": "stream",
     "text": [
      "Enter the password: HOPE@123\n"
     ]
    },
    {
     "name": "stdout",
     "output_type": "stream",
     "text": [
      "Your password is correct\n"
     ]
    }
   ],
   "source": [
    "#2. Check the password using if and else\n",
    "str=input(\"Enter the password:\")\n",
    "if(str==\"HOPE@123\"):\n",
    "   print(\"Your password is correct\")\n",
    "else:\n",
    "    print(\"Your password is not correct\")\n"
   ]
  },
  {
   "cell_type": "code",
   "execution_count": 7,
   "id": "55edadc2-31dd-4b9c-aee5-c02722f659b0",
   "metadata": {},
   "outputs": [
    {
     "name": "stdin",
     "output_type": "stream",
     "text": [
      "Age= 20\n"
     ]
    },
    {
     "name": "stdout",
     "output_type": "stream",
     "text": [
      "Adult\n"
     ]
    }
   ],
   "source": [
    "#3. Category the people by their age like children,Adult,Citizen,Senior Citizen\n",
    "Age=int(input(\"Age=\"))\n",
    "if(Age<18):\n",
    "        print(\"Children\")\n",
    "elif(Age<35):\n",
    "        print(\"Adult\")\n",
    "elif(Age<59):\n",
    "        print(\"Citizen\")\n",
    "else:\n",
    "        print(\"Senior Citizen\")\n",
    "\n",
    "     "
   ]
  },
  {
   "cell_type": "code",
   "execution_count": 14,
   "id": "93581626-1e45-44d6-b73d-42fbb2e220a7",
   "metadata": {},
   "outputs": [
    {
     "name": "stdin",
     "output_type": "stream",
     "text": [
      "Enter the Number+ 5\n"
     ]
    },
    {
     "name": "stdout",
     "output_type": "stream",
     "text": [
      "5 is positive\n"
     ]
    }
   ],
   "source": [
    "#4. Find whether given mnumber is positive or negative\n",
    "num=int(input(\"Enter the Number+\"))\n",
    "if(num>0):\n",
    "    print(num,\"is positive\")\n",
    "else:\n",
    "    print(num,\"is negative\")"
   ]
  },
  {
   "cell_type": "code",
   "execution_count": 16,
   "id": "cbb74c92-5ba0-4dc0-b399-89ec049837e6",
   "metadata": {},
   "outputs": [
    {
     "name": "stdin",
     "output_type": "stream",
     "text": [
      "Enter the Number: 22\n"
     ]
    },
    {
     "name": "stdout",
     "output_type": "stream",
     "text": [
      "22 is not divisible by 5\n"
     ]
    }
   ],
   "source": [
    "#5. Check whether the given number is divisible by 5\n",
    "num=int(input(\"Enter the Number:\"))\n",
    "if(num%5==0):\n",
    "    print(num,\"is divisible by 5\")\n",
    "else:\n",
    "    print(num,\"is not divisible by 5\")"
   ]
  },
  {
   "cell_type": "code",
   "execution_count": null,
   "id": "4835e878-dbdb-4bdd-b654-d9e8d40a7ce1",
   "metadata": {},
   "outputs": [],
   "source": []
  }
 ],
 "metadata": {
  "kernelspec": {
   "display_name": "Python 3 (ipykernel)",
   "language": "python",
   "name": "python3"
  },
  "language_info": {
   "codemirror_mode": {
    "name": "ipython",
    "version": 3
   },
   "file_extension": ".py",
   "mimetype": "text/x-python",
   "name": "python",
   "nbconvert_exporter": "python",
   "pygments_lexer": "ipython3",
   "version": "3.11.7"
  }
 },
 "nbformat": 4,
 "nbformat_minor": 5
}
