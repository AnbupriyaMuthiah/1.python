{
 "cells": [
  {
   "cell_type": "code",
   "execution_count": 1,
   "id": "6ee8ec05-3015-4c9a-a23d-41da94a69e94",
   "metadata": {},
   "outputs": [
    {
     "name": "stdout",
     "output_type": "stream",
     "text": [
      "Subfields in AI are:\n",
      "Machine Learning\n",
      "Neural Network\n",
      "Vision\n",
      "Robotics\n",
      "Speech Processing\n",
      "Natural Language Processing\n"
     ]
    }
   ],
   "source": [
    "# 1. Create the class and function, and list out the item in the list\n",
    "def AISubfields(): \n",
    "        list=[\"Machine Learning\",\"Neural Network\",\"Vision\",\"Robotics\",\"Speech Processing\",\"Natural Language Processing\"]\n",
    "        print(\"Subfields in AI are:\")\n",
    "        for list1 in list:\n",
    "            print(list1)\n",
    "AISubfields()"
   ]
  },
  {
   "cell_type": "code",
   "execution_count": 7,
   "id": "ef431ac6-5d2a-49d9-aa68-de9b52504c52",
   "metadata": {},
   "outputs": [
    {
     "name": "stdout",
     "output_type": "stream",
     "text": [
      "Subfields in AI are:\n",
      "Machine Learning\n",
      "Neural Network\n",
      "Vision\n",
      "Robotics\n",
      "Speech Processing\n",
      "Natural Language Processing\n"
     ]
    }
   ],
   "source": [
    "AISubfields()"
   ]
  },
  {
   "cell_type": "code",
   "execution_count": 3,
   "id": "e79e1dfa-30a1-44ad-91fa-ffa68db5d2d3",
   "metadata": {},
   "outputs": [
    {
     "name": "stdin",
     "output_type": "stream",
     "text": [
      "Enter the Number: 52452\n"
     ]
    },
    {
     "name": "stdout",
     "output_type": "stream",
     "text": [
      "52452 is Even Number\n"
     ]
    }
   ],
   "source": [
    "#2. Create a function whether the given number OddEven\n",
    "def OddEven():    \n",
    "    Num=int(input(\"Enter the Number:\"))\n",
    "    if(Num%2==0):\n",
    "        print(Num,\"is Even Number\")\n",
    "    else:\n",
    "        print(Num,\"is Odd Number\")\n",
    "OddEven()    "
   ]
  },
  {
   "cell_type": "code",
   "execution_count": 4,
   "id": "e56a93a7-3e85-4b0a-83ac-ed5e8a0ba527",
   "metadata": {},
   "outputs": [
    {
     "name": "stdin",
     "output_type": "stream",
     "text": [
      "Enter your Gender: male\n",
      "Enter your Age: 20\n"
     ]
    },
    {
     "name": "stdout",
     "output_type": "stream",
     "text": [
      "Not Eligible\n"
     ]
    }
   ],
   "source": [
    "# 3.Create the Function that tells eligibility of marriage male=21 and female =18\n",
    "def EligibilityforMarriage():\n",
    "    gender=input(\"Enter your Gender:\")\n",
    "    age=int(input(\"Enter your Age:\"))\n",
    "    if (gender==\"male\" and age>21):\n",
    "        print(\"Eligible\")\n",
    "    elif(gender==\"female\" and age>18):\n",
    "        print(\"Eligible\")\n",
    "    else:\n",
    "        print(\"Not Eligible\")\n",
    "\n",
    "EligibilityforMarriage()       "
   ]
  },
  {
   "cell_type": "code",
   "execution_count": 5,
   "id": "ba3f5406-2573-4ef0-92e7-84279ed237bb",
   "metadata": {},
   "outputs": [
    {
     "name": "stdin",
     "output_type": "stream",
     "text": [
      "Subject1: 98\n",
      "Subject2: 87\n",
      "Subject3: 95\n",
      "Subject4: 95\n",
      "Subject5: 93\n"
     ]
    },
    {
     "name": "stdout",
     "output_type": "stream",
     "text": [
      "Total: 468\n",
      "Percentage: 93.6\n"
     ]
    }
   ],
   "source": [
    "# 4.Calculte the Percentage of your 10th Mark\n",
    "def Percentage():\n",
    "    sub1=int(input(\"Subject1:\"))\n",
    "    sub2=int(input(\"Subject2:\"))\n",
    "    sub3=int(input(\"Subject3:\"))\n",
    "    sub4=int(input(\"Subject4:\"))\n",
    "    sub5=int(input(\"Subject5:\"))\n",
    "    Total=sub1+sub2+sub3+sub4+sub5\n",
    "    print(\"Total:\",Total)\n",
    "    percentage=Total/500*100\n",
    "    per=print(\"Percentage:\",round(percentage,2))\n",
    "    return per\n",
    "\n",
    "Percentage()    \n"
   ]
  },
  {
   "cell_type": "code",
   "execution_count": 6,
   "id": "fd6fe3d4-5e85-41f2-9a05-a7596dc03020",
   "metadata": {},
   "outputs": [
    {
     "name": "stdin",
     "output_type": "stream",
     "text": [
      "Height: 34\n",
      "Breath: 32\n"
     ]
    },
    {
     "name": "stdout",
     "output_type": "stream",
     "text": [
      "Area of Triangle: 544.0\n"
     ]
    },
    {
     "name": "stdin",
     "output_type": "stream",
     "text": [
      "Height1: 2\n",
      "Height2: 4\n",
      "Breath: 4\n"
     ]
    },
    {
     "name": "stdout",
     "output_type": "stream",
     "text": [
      "Perimeter of Triangle: 10.0\n"
     ]
    }
   ],
   "source": [
    "# 5. Print Area and perimeter of Triangle using Class and Function\n",
    "def Triangle():\n",
    "    Height=float(input(\"Height:\"))\n",
    "    Breadth=float(input(\"Breath:\"))\n",
    "    Area=Height*Breadth/2\n",
    "    print(\"Area of Triangle:\",Area)\n",
    "    Height1=float(input(\"Height1:\"))   \n",
    "    Height2=float(input(\"Height2:\"))\n",
    "    Breadth=float(input(\"Breath:\"))\n",
    "    perimeter=Height1+Height2+Breadth\n",
    "    print(\"Perimeter of Triangle:\",perimeter)\n",
    "\n",
    "Triangle()\n"
   ]
  },
  {
   "cell_type": "code",
   "execution_count": null,
   "id": "05605cbd-4fa3-4692-a543-6f23963513e6",
   "metadata": {},
   "outputs": [],
   "source": []
  }
 ],
 "metadata": {
  "kernelspec": {
   "display_name": "Python 3 (ipykernel)",
   "language": "python",
   "name": "python3"
  },
  "language_info": {
   "codemirror_mode": {
    "name": "ipython",
    "version": 3
   },
   "file_extension": ".py",
   "mimetype": "text/x-python",
   "name": "python",
   "nbconvert_exporter": "python",
   "pygments_lexer": "ipython3",
   "version": "3.11.7"
  }
 },
 "nbformat": 4,
 "nbformat_minor": 5
}
