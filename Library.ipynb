{
 "cells": [
  {
   "cell_type": "code",
   "execution_count": 2,
   "id": "c14f1a09-e48e-482f-9b60-06212666e455",
   "metadata": {},
   "outputs": [],
   "source": [
    "from MultipleFunction import MultiFunction"
   ]
  },
  {
   "cell_type": "code",
   "execution_count": 3,
   "id": "bb543d27-248d-4ca0-b624-e17e5ab22db7",
   "metadata": {},
   "outputs": [
    {
     "name": "stdout",
     "output_type": "stream",
     "text": [
      "Subfields in AI are:\n",
      "Machine Learning\n",
      "Neural Network\n",
      "Vision\n",
      "Robotics\n",
      "Speech Processing\n",
      "Natural Language Processing\n"
     ]
    }
   ],
   "source": [
    "MultiFunction.AISubfields()"
   ]
  },
  {
   "cell_type": "code",
   "execution_count": 4,
   "id": "fda27fec-67e0-42e6-9c84-e7b0d53606b8",
   "metadata": {},
   "outputs": [
    {
     "name": "stdin",
     "output_type": "stream",
     "text": [
      "Enter the Number: 52452\n"
     ]
    },
    {
     "name": "stdout",
     "output_type": "stream",
     "text": [
      "52452 is Even Number\n"
     ]
    }
   ],
   "source": [
    "MultiFunction.OddEven()"
   ]
  },
  {
   "cell_type": "code",
   "execution_count": 5,
   "id": "2cddc6a5-f285-4d94-ad8e-50956639580c",
   "metadata": {},
   "outputs": [
    {
     "name": "stdin",
     "output_type": "stream",
     "text": [
      "Enter your Gender: male\n",
      "Enter your Age: 20\n"
     ]
    },
    {
     "name": "stdout",
     "output_type": "stream",
     "text": [
      "Not Eligible\n"
     ]
    }
   ],
   "source": [
    "MultiFunction.EligibilityforMarriage()"
   ]
  },
  {
   "cell_type": "code",
   "execution_count": 6,
   "id": "30b12909-ade3-4a72-95cd-cf7333538f2e",
   "metadata": {},
   "outputs": [
    {
     "name": "stdin",
     "output_type": "stream",
     "text": [
      "Subject1: 98\n",
      "Subject2: 87\n",
      "Subject3: 95\n",
      "Subject4: 93\n",
      "Subject5: 93\n"
     ]
    },
    {
     "name": "stdout",
     "output_type": "stream",
     "text": [
      "Total: 466\n",
      "Percentage: 93.2\n"
     ]
    }
   ],
   "source": [
    "MultiFunction.Percentage()"
   ]
  },
  {
   "cell_type": "code",
   "execution_count": 7,
   "id": "4907b327-5407-4db6-9e07-4577cec0ce5c",
   "metadata": {},
   "outputs": [
    {
     "name": "stdin",
     "output_type": "stream",
     "text": [
      "Height: 32\n",
      "Breath: 34\n"
     ]
    },
    {
     "name": "stdout",
     "output_type": "stream",
     "text": [
      "Area of Triangle: 544.0\n"
     ]
    },
    {
     "name": "stdin",
     "output_type": "stream",
     "text": [
      "Height1: 4\n",
      "Height2: 4\n",
      "Breath: 2\n"
     ]
    },
    {
     "name": "stdout",
     "output_type": "stream",
     "text": [
      "Perimeter of Triangle: 10.0\n"
     ]
    }
   ],
   "source": [
    "MultiFunction.Triangle()"
   ]
  },
  {
   "cell_type": "code",
   "execution_count": null,
   "id": "dd752724-461f-47e2-a817-4f54eff7c169",
   "metadata": {},
   "outputs": [],
   "source": []
  }
 ],
 "metadata": {
  "kernelspec": {
   "display_name": "Python 3 (ipykernel)",
   "language": "python",
   "name": "python3"
  },
  "language_info": {
   "codemirror_mode": {
    "name": "ipython",
    "version": 3
   },
   "file_extension": ".py",
   "mimetype": "text/x-python",
   "name": "python",
   "nbconvert_exporter": "python",
   "pygments_lexer": "ipython3",
   "version": "3.11.7"
  }
 },
 "nbformat": 4,
 "nbformat_minor": 5
}
